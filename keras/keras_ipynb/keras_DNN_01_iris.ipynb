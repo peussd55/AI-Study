{
 "cells": [
  {
   "cell_type": "markdown",
   "id": "f417d8d4",
   "metadata": {},
   "source": [
    "#### $ 필요한 패키지 import"
   ]
  },
  {
   "cell_type": "code",
   "execution_count": 11,
   "id": "a8ac8573",
   "metadata": {},
   "outputs": [
    {
     "name": "stdout",
     "output_type": "stream",
     "text": [
      "1.6.1\n",
      "2.7.4\n"
     ]
    }
   ],
   "source": [
    "import sklearn as sk\n",
    "print(sk.__version__)\n",
    "import tensorflow as tf\n",
    "print(tf.__version__)\n",
    "import pandas as pd\n",
    "import numpy as np\n",
    "import time, random\n",
    "\n",
    "from sklearn.datasets import load_iris\n",
    "from tensorflow.keras.models import Sequential\n",
    "from tensorflow.keras.layers import Dense"
   ]
  },
  {
   "cell_type": "markdown",
   "id": "e28824ee",
   "metadata": {},
   "source": [
    "#### $ 랜덤시드 고정"
   ]
  },
  {
   "cell_type": "code",
   "execution_count": 12,
   "id": "ba335e10",
   "metadata": {},
   "outputs": [],
   "source": [
    "seed = 999\n",
    "random.seed(seed)\n",
    "np.random.seed(seed)\n",
    "tf.random.set_seed(seed)"
   ]
  },
  {
   "cell_type": "markdown",
   "id": "3aa16923",
   "metadata": {},
   "source": [
    "#### # 1. 데이터 전처리"
   ]
  },
  {
   "cell_type": "code",
   "execution_count": null,
   "id": "c28eb135",
   "metadata": {},
   "outputs": [
    {
     "name": "stdout",
     "output_type": "stream",
     "text": [
      "(150, 4) (150,) \n",
      "\n",
      "(array([0, 1, 2]), array([50, 50, 50], dtype=int64)) \n",
      "\n",
      "0    50\n",
      "1    50\n",
      "2    50\n",
      "dtype: int64 \n",
      "\n",
      "[0 0 0 0 0 0 0 0 0 0 0 0 0 0 0 0 0 0 0 0 0 0 0 0 0 0 0 0 0 0 0 0 0 0 0 0 0\n",
      " 0 0 0 0 0 0 0 0 0 0 0 0 0 1 1 1 1 1 1 1 1 1 1 1 1 1 1 1 1 1 1 1 1 1 1 1 1\n",
      " 1 1 1 1 1 1 1 1 1 1 1 1 1 1 1 1 1 1 1 1 1 1 1 1 1 1 2 2 2 2 2 2 2 2 2 2 2\n",
      " 2 2 2 2 2 2 2 2 2 2 2 2 2 2 2 2 2 2 2 2 2 2 2 2 2 2 2 2 2 2 2 2 2 2 2 2 2\n",
      " 2 2]\n"
     ]
    }
   ],
   "source": [
    "datasets = load_iris()\n",
    "\n",
    "## x, y를 딕셔너리로 제공\n",
    "x = datasets.data\n",
    "y = datasets['target']\n",
    "\n",
    "## shape, 불균형여부 확인 : 다중라벨, 균형데이터\n",
    "print(x.shape, y.shape, \"\\n\")\n",
    "print(np.unique(y, return_counts=True), \"\\n\") \n",
    "print(pd.value_counts(y), \"\\n\")\n",
    "print(y) "
   ]
  },
  {
   "cell_type": "code",
   "execution_count": null,
   "id": "5497dc15",
   "metadata": {},
   "outputs": [],
   "source": []
  }
 ],
 "metadata": {
  "kernelspec": {
   "display_name": "tf274cpu",
   "language": "python",
   "name": "python3"
  },
  "language_info": {
   "codemirror_mode": {
    "name": "ipython",
    "version": 3
   },
   "file_extension": ".py",
   "mimetype": "text/x-python",
   "name": "python",
   "nbconvert_exporter": "python",
   "pygments_lexer": "ipython3",
   "version": "3.9.23"
  }
 },
 "nbformat": 4,
 "nbformat_minor": 5
}
